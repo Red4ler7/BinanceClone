{
 "cells": [
  {
   "cell_type": "code",
   "execution_count": 2,
   "metadata": {},
   "outputs": [],
   "source": [
    "import pandas as pd\n",
    "import numpy as np\n",
    "import matplotlib.pyplot as plt\n",
    "\n",
    "data = pd.read_csv('heartdisease.csv')\n",
    "A = data[['age', 'male','currentSmoker', 'prevalentHyp']]\n",
    "matrix = np.array(A.values, 'float')\n",
    "X1 = matrix[:,(0,1,2)]\n",
    "Y = matrix[:,3]\n",
    "a = np.max(X1[:, 0])\n",
    "X1[:,0] = X1[:,0]/(np.max(X1[:, 0]))\n",
    "X1 = X1.reshape([Y.size, 3])\n",
    "x = np.hstack([np.ones((X1[:,0].size, 1)), X1])\n",
    "theta = np.zeros((4,1))\n",
    "m = np.size(Y)\n",
    "iterholder = np.zeros((1000,1))\n",
    "def sigmoid(inputin):\n",
    "    f = inputin\n",
    "    return 1/(1 + np.exp(-f))\n",
    "\n",
    "def compute(x, Y, theta):\n",
    "    alpha = 0.000001\n",
    "    iteration = 1000\n",
    "    # gradient descend thing\n",
    "    J_history = np.zeros([iteration, 1])\n",
    "\n",
    "    for iter in range(0, iteration):\n",
    "        thing = (x @ theta)\n",
    "        Hx = sigmoid(thing)\n",
    "        sigma = Hx - Y\n",
    "        temp0 = theta[0] - ((alpha / m) * np.sum(sigma * x[:, 0]))\n",
    "        temp1 = theta[1] - ((alpha / m) * np.sum(sigma * x[:, 1]))\n",
    "        temp2 = theta[2] - ((alpha / m) * np.sum(sigma * x[:, 2]))\n",
    "        temp3 = theta[3] - ((alpha / m) * np.sum(sigma * x[:, 3]))\n",
    "        theta = np.array([temp0, temp1, temp2, temp3]).reshape(4, 1)\n",
    "        iterholder[iter] = iter\n",
    "        J_history[iter] = (1/m)*(np.sum(((-Y) @ np.log(Hx))-(((1-Y) @ np.log(1-Hx)))))\n",
    "\n",
    "    return theta, J_history\n",
    "\n",
    "Theta, J_hist = compute(x, Y, theta)"
   ]
  },
  {
   "cell_type": "code",
   "execution_count": 35,
   "metadata": {},
   "outputs": [
    {
     "name": "stdout",
     "output_type": "stream",
     "text": [
      "[0.361514]\n"
     ]
    },
    {
     "data": {
      "image/png": "[encoded data removed]",
      "text/plain": [
       "<Figure size 432x288 with 1 Axes>"
      ]
     },
     "metadata": {
      "needs_background": "light"
     },
     "output_type": "display_data"
    }
   ],
   "source": [
    "#       X1, age, gender, currentSmoker\n",
    "predict = [1, 29/a, 1, 0] @ Theta\n",
    "print(sigmoid(predict))\n",
    "plt.plot(iterholder,J_hist,'-')\n",
    "plt.xlabel('iterations')\n",
    "plt.ylabel('cost function')\n",
    "plt.show()"
   ]
  },
  {
   "cell_type": "code",
   "execution_count": null,
   "metadata": {},
   "outputs": [],
   "source": []
  }
 ],
 "metadata": {
  "kernelspec": {
   "display_name": "Python 3",
   "language": "python",
   "name": "python3"
  },
  "language_info": {
   "codemirror_mode": {
    "name": "ipython",
    "version": 3
   },
   "file_extension": ".py",
   "mimetype": "text/x-python",
   "name": "python",
   "nbconvert_exporter": "python",
   "pygments_lexer": "ipython3",
   "version": "3.8.3"
  }
 },
 "nbformat": 4,
 "nbformat_minor": 4
}
